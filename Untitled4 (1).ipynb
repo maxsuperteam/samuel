{
 "cells": [
  {
   "cell_type": "code",
   "execution_count": 1,
   "id": "3fe3500f",
   "metadata": {},
   "outputs": [
    {
     "data": {
      "text/plain": [
       "list"
      ]
     },
     "execution_count": 1,
     "metadata": {},
     "output_type": "execute_result"
    }
   ],
   "source": [
    "name=[\"raju\",\"ramu\",\"suraj\",\"bobby\"]\n",
    "type(name)"
   ]
  },
  {
   "cell_type": "code",
   "execution_count": 2,
   "id": "dcfb92e5",
   "metadata": {},
   "outputs": [],
   "source": [
    "cities={\"kalady:india\",\"berlin:germany\",\"abu dhabi:uae\"}\n"
   ]
  },
  {
   "cell_type": "code",
   "execution_count": 3,
   "id": "c60c99f0",
   "metadata": {},
   "outputs": [
    {
     "data": {
      "text/plain": [
       "{'abu dhabi:uae', 'berlin:germany', 'kalady:india'}"
      ]
     },
     "execution_count": 3,
     "metadata": {},
     "output_type": "execute_result"
    }
   ],
   "source": [
    "cities\n"
   ]
  },
  {
   "cell_type": "code",
   "execution_count": 5,
   "id": "23f3a6c8",
   "metadata": {},
   "outputs": [],
   "source": [
    "states={\"kl\":{'capital':'TVM','rank':'1'},\n",
    "        \"tn\":{'capital':'chennai','rank':'2'},\n",
    "        \"ka\":{'capital':'blr','rank':'3'}}"
   ]
  },
  {
   "cell_type": "code",
   "execution_count": 6,
   "id": "a0de4a76",
   "metadata": {},
   "outputs": [
    {
     "data": {
      "text/plain": [
       "{'kl': {'capital': 'TVM', 'rank': '1'},\n",
       " 'tn': {'capital': 'chennai', 'rank': '2'},\n",
       " 'ka': {'capital': 'blr', 'rank': '3'}}"
      ]
     },
     "execution_count": 6,
     "metadata": {},
     "output_type": "execute_result"
    }
   ],
   "source": [
    "states\n"
   ]
  },
  {
   "cell_type": "code",
   "execution_count": 7,
   "id": "c64c1315",
   "metadata": {},
   "outputs": [],
   "source": [
    "set1=('apple','orange','mango','grapes')"
   ]
  },
  {
   "cell_type": "code",
   "execution_count": 8,
   "id": "615d47d1",
   "metadata": {},
   "outputs": [
    {
     "data": {
      "text/plain": [
       "tuple"
      ]
     },
     "execution_count": 8,
     "metadata": {},
     "output_type": "execute_result"
    }
   ],
   "source": [
    "type(set1)\n"
   ]
  },
  {
   "cell_type": "code",
   "execution_count": 1,
   "id": "36a912dd",
   "metadata": {},
   "outputs": [
    {
     "ename": "SyntaxError",
     "evalue": "invalid syntax (1885169875.py, line 1)",
     "output_type": "error",
     "traceback": [
      "\u001b[1;36m  Cell \u001b[1;32mIn[1], line 1\u001b[1;36m\u001b[0m\n\u001b[1;33m    def\u001b[0m\n\u001b[1;37m        ^\u001b[0m\n\u001b[1;31mSyntaxError\u001b[0m\u001b[1;31m:\u001b[0m invalid syntax\n"
     ]
    }
   ],
   "source": [
    "def "
   ]
  },
  {
   "cell_type": "code",
   "execution_count": null,
   "id": "ca72802d",
   "metadata": {},
   "outputs": [],
   "source": [
    "def addition(a,b):\n",
    "    c=a+b\n",
    "    return c"
   ]
  },
  {
   "cell_type": "code",
   "execution_count": 5,
   "id": "e44f434e",
   "metadata": {},
   "outputs": [
    {
     "name": "stdout",
     "output_type": "stream",
     "text": [
      "write a num 12\n",
      "write a num 24\n"
     ]
    },
    {
     "ename": "NameError",
     "evalue": "name 'add' is not defined",
     "output_type": "error",
     "traceback": [
      "\u001b[1;31m---------------------------------------------------------------------------\u001b[0m",
      "\u001b[1;31mNameError\u001b[0m                                 Traceback (most recent call last)",
      "Cell \u001b[1;32mIn[5], line 3\u001b[0m\n\u001b[0;32m      1\u001b[0m a\u001b[38;5;241m=\u001b[39m\u001b[38;5;28mint\u001b[39m(\u001b[38;5;28minput\u001b[39m(\u001b[38;5;124m\"\u001b[39m\u001b[38;5;124mwrite a num 1\u001b[39m\u001b[38;5;124m\"\u001b[39m))\n\u001b[0;32m      2\u001b[0m b\u001b[38;5;241m=\u001b[39m\u001b[38;5;28mint\u001b[39m(\u001b[38;5;28minput\u001b[39m(\u001b[38;5;124m\"\u001b[39m\u001b[38;5;124mwrite a num 2\u001b[39m\u001b[38;5;124m\"\u001b[39m))\n\u001b[1;32m----> 3\u001b[0m \u001b[38;5;28mprint\u001b[39m(\u001b[38;5;124m\"\u001b[39m\u001b[38;5;124msum is\u001b[39m\u001b[38;5;124m\"\u001b[39m,add(x,y))\n",
      "\u001b[1;31mNameError\u001b[0m: name 'add' is not defined"
     ]
    }
   ],
   "source": [
    "a=int(input(\"write a num 1\"))\n",
    "b=int(input(\"write a num 2\"))\n",
    "print(\"sum is\",add(x,y))"
   ]
  },
  {
   "cell_type": "code",
   "execution_count": 6,
   "id": "8743de7b",
   "metadata": {},
   "outputs": [],
   "source": [
    "def great(x,y,z):\n",
    "    if x>y and x>z:\n",
    "        return x\n",
    "    elif y>x and y>z:\n",
    "        return y\n",
    "    else:\n",
    "        return z"
   ]
  },
  {
   "cell_type": "code",
   "execution_count": 7,
   "id": "c0d78d4d",
   "metadata": {},
   "outputs": [
    {
     "data": {
      "text/plain": [
       "6"
      ]
     },
     "execution_count": 7,
     "metadata": {},
     "output_type": "execute_result"
    }
   ],
   "source": [
    "great(3,5,6)\n"
   ]
  },
  {
   "cell_type": "code",
   "execution_count": 9,
   "id": "b6157746",
   "metadata": {},
   "outputs": [
    {
     "data": {
      "text/plain": [
       "5"
      ]
     },
     "execution_count": 9,
     "metadata": {},
     "output_type": "execute_result"
    }
   ],
   "source": [
    "scores=[1,2,3,4,5,6]\n",
    "scores.sort(reverse=True)\n",
    "scores[1]"
   ]
  },
  {
   "cell_type": "code",
   "execution_count": 1,
   "id": "5ce37aed",
   "metadata": {},
   "outputs": [
    {
     "name": "stdout",
     "output_type": "stream",
     "text": [
      "5\n"
     ]
    }
   ],
   "source": [
    "scores=[1,2,3,4,5,6]\n",
    "scset=set(scores)\n",
    "top=max(scset)\n",
    "scset.remove(top)\n",
    "print(max(scset))"
   ]
  },
  {
   "cell_type": "code",
   "execution_count": 7,
   "id": "561cf1c9",
   "metadata": {},
   "outputs": [
    {
     "name": "stdout",
     "output_type": "stream",
     "text": [
      "{5, 6, 7}\n"
     ]
    }
   ],
   "source": [
    "s1={2,3,4,5,6,7}\n",
    "s2={5,6,7,8,9,0}\n",
    "if s1.intersection(s2):\n",
    "    print(s1&s2)\n",
    "else:\n",
    "    print(s1.union(s2))"
   ]
  },
  {
   "cell_type": "code",
   "execution_count": 6,
   "id": "fae52bae",
   "metadata": {},
   "outputs": [
    {
     "name": "stdout",
     "output_type": "stream",
     "text": [
      "enter the name to  be updateJohn\n",
      "name not found\n"
     ]
    }
   ],
   "source": [
    "d={\"john\":[25,32,43],'peter':[87,55,96],'ram':[58,55,43],'meena':[63,79,45]}\n",
    "n=input('enter the name to  be update')\n",
    "if n in d:\n",
    "    d[n]=[88,77,99]\n",
    "else:\n",
    "    print('name not found')"
   ]
  },
  {
   "cell_type": "code",
   "execution_count": 8,
   "id": "a6a900d4",
   "metadata": {},
   "outputs": [
    {
     "name": "stdout",
     "output_type": "stream",
     "text": [
      "elder = 48\n",
      "young = 23\n"
     ]
    }
   ],
   "source": [
    "age=[23,36,48]\n",
    "print('elder =',max(age))\n",
    "print('young =',min(age))"
   ]
  },
  {
   "cell_type": "code",
   "execution_count": 9,
   "id": "2b5a7665",
   "metadata": {},
   "outputs": [
    {
     "data": {
      "text/plain": [
       "'nraa'"
      ]
     },
     "execution_count": 9,
     "metadata": {},
     "output_type": "execute_result"
    }
   ],
   "source": [
    "s='nirmala'\n",
    "s[::2]"
   ]
  },
  {
   "cell_type": "code",
   "execution_count": null,
   "id": "4675ae2f",
   "metadata": {},
   "outputs": [],
   "source": []
  }
 ],
 "metadata": {
  "kernelspec": {
   "display_name": "Python 3 (ipykernel)",
   "language": "python",
   "name": "python3"
  },
  "language_info": {
   "codemirror_mode": {
    "name": "ipython",
    "version": 3
   },
   "file_extension": ".py",
   "mimetype": "text/x-python",
   "name": "python",
   "nbconvert_exporter": "python",
   "pygments_lexer": "ipython3",
   "version": "3.11.5"
  }
 },
 "nbformat": 4,
 "nbformat_minor": 5
}
